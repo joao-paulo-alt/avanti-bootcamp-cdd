{
 "cells": [
  {
   "cell_type": "code",
   "execution_count": 9,
   "id": "835b2a04-755f-48d2-a231-08e7aba20436",
   "metadata": {},
   "outputs": [],
   "source": [
    "import pandas as pd"
   ]
  },
  {
   "cell_type": "code",
   "execution_count": 10,
   "id": "43fb1891-134a-476e-ae37-0ee8f527911e",
   "metadata": {},
   "outputs": [],
   "source": [
    "df = pd.read_csv('https://raw.githubusercontent.com/atlantico-academy/datasets/refs/heads/main/penguins.csv')"
   ]
  },
  {
   "cell_type": "code",
   "execution_count": 11,
   "id": "19a7c3ee-1c5c-4017-a112-ddc2003e4731",
   "metadata": {},
   "outputs": [],
   "source": [
    "df = df.to_csv('../data/raw/data.csv', index=False)"
   ]
  },
  {
   "cell_type": "code",
   "execution_count": 12,
   "id": "2afa5056-c914-4fe2-94ed-a0b246cca7a7",
   "metadata": {},
   "outputs": [],
   "source": [
    "# Dicionário de dados\n",
    "data_dictionary = pd.DataFrame([ \n",
    "    {\n",
    "        \"variavel\": \"species\",\n",
    "        \"descricao\": \"Espécie do pinguim (Adelie, Chinstrap, Gentoo)\",\n",
    "        \"tipo\": \"qualitativa\",\n",
    "        \"subtipo\": \"nominal\"\n",
    "    },\n",
    "    {\n",
    "        \"variavel\": \"bill_length_mm\",\n",
    "        \"descricao\": \"Comprimento do bico em milímetros\",\n",
    "        \"tipo\": \"quantitativa\",\n",
    "        \"subtipo\": \"contínua\"\n",
    "    },\n",
    "    {\n",
    "        \"variavel\": \"bill_depth_mm\",\n",
    "        \"descricao\": \"Profundidade do bico em milímetros\",\n",
    "        \"tipo\": \"quantitativa\",\n",
    "        \"subtipo\": \"contínua\"\n",
    "    },\n",
    "    {\n",
    "        \"variavel\": \"island\",\n",
    "        \"descricao\": \"Ilha onde o pinguim foi encontrado (Biscoe, Dream ou Torgersen)\",\n",
    "        \"tipo\": \"qualitativa\",\n",
    "        \"subtipo\": \"nominal\"\n",
    "    },\n",
    "    {\n",
    "        \"variavel\": \"flipper_length_mm\",\n",
    "        \"descricao\": \"Comprimento da nadadeira em milímetros\",\n",
    "        \"tipo\": \"quantitativa\",\n",
    "        \"subtipo\": \"contínua\"\n",
    "    },\n",
    "    {\n",
    "        \"variavel\": \"body_mass_g\",\n",
    "        \"descricao\": \"Massa corporal em gramas\",\n",
    "        \"tipo\": \"quantitativa\",\n",
    "        \"subtipo\": \"contínua\"\n",
    "    },\n",
    "    {\n",
    "        \"variavel\": \"sex\",\n",
    "        \"descricao\": \"Sexo do pinguim (Masculino ou Feminino)\",\n",
    "        \"tipo\": \"qualitativa\",\n",
    "        \"subtipo\": \"nominal\"\n",
    "    },\n",
    "    {\n",
    "        \"variavel\": \"year\",\n",
    "        \"descricao\": \"Ano em que os dados foram coletados\",\n",
    "        \"tipo\": \"quantitativa\",\n",
    "        \"subtipo\": \"discreta\"\n",
    "    }\n",
    "])\n",
    "\n",
    "# Salvar dicionário\n",
    "data_dictionary.to_csv(\"../data/external/dictionary.csv\", index=False)\n"
   ]
  },
  {
   "cell_type": "code",
   "execution_count": null,
   "id": "0d172d86-7eed-4036-9c28-df5952996d69",
   "metadata": {},
   "outputs": [],
   "source": []
  }
 ],
 "metadata": {
  "kernelspec": {
   "display_name": "Python 3 (ipykernel)",
   "language": "python",
   "name": "python3"
  },
  "language_info": {
   "codemirror_mode": {
    "name": "ipython",
    "version": 3
   },
   "file_extension": ".py",
   "mimetype": "text/x-python",
   "name": "python",
   "nbconvert_exporter": "python",
   "pygments_lexer": "ipython3",
   "version": "3.10.11"
  }
 },
 "nbformat": 4,
 "nbformat_minor": 5
}
